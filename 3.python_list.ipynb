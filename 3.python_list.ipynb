{
 "cells": [
  {
   "cell_type": "markdown",
   "metadata": {},
   "source": [
    "### Indentation error (들여쓰기 에러)"
   ]
  },
  {
   "cell_type": "markdown",
   "metadata": {},
   "source": [
    "- 파이썬은 행 혹은 열이 어떤 프로그램과 연결되는지 판단할 때 들여쓰기를 기준으로 한다.\n",
    "\n",
    "- 기본적으로 공백을 써서 들여쓰기를 표현하여 코드의 시각적 구조가 명확하게 보인다."
   ]
  },
  {
   "cell_type": "code",
   "execution_count": 18,
   "metadata": {},
   "outputs": [
    {
     "ename": "IndentationError",
     "evalue": "expected an indented block (49757893.py, line 4)",
     "output_type": "error",
     "traceback": [
      "\u001b[1;36m  Input \u001b[1;32mIn [18]\u001b[1;36m\u001b[0m\n\u001b[1;33m    print(magician)\u001b[0m\n\u001b[1;37m    ^\u001b[0m\n\u001b[1;31mIndentationError\u001b[0m\u001b[1;31m:\u001b[0m expected an indented block\n"
     ]
    }
   ],
   "source": [
    "# 1. 들여쓰기를 잊었을 때\n",
    "magicians = ['alice', 'david', 'carolina']\n",
    "for magician in magicians :\n",
    "print(magician)"
   ]
  },
  {
   "cell_type": "code",
   "execution_count": 19,
   "metadata": {},
   "outputs": [
    {
     "name": "stdout",
     "output_type": "stream",
     "text": [
      "Alice, that was a great trick!\n",
      "David, that was a great trick!\n",
      "Carolina, that was a great trick!\n",
      "I can't wait to see your next trick, Carolina. \n",
      "\n"
     ]
    }
   ],
   "source": [
    "# 2. 추가 행을 들여 쓰지 않았을 때 - logical error (논리적 에러)\n",
    "magicians = ['alice', 'david', 'carolina']\n",
    "for magician in magicians :\n",
    "    print(f\"{magician.title()}, that was a great trick!\")\n",
    "print(f\"I can't wait to see your next trick, {magician.title()}. \\n\")"
   ]
  },
  {
   "cell_type": "code",
   "execution_count": 20,
   "metadata": {},
   "outputs": [
    {
     "ename": "IndentationError",
     "evalue": "unexpected indent (1816875865.py, line 3)",
     "output_type": "error",
     "traceback": [
      "\u001b[1;36m  Input \u001b[1;32mIn [20]\u001b[1;36m\u001b[0m\n\u001b[1;33m    print(message)\u001b[0m\n\u001b[1;37m    ^\u001b[0m\n\u001b[1;31mIndentationError\u001b[0m\u001b[1;31m:\u001b[0m unexpected indent\n"
     ]
    }
   ],
   "source": [
    "# 3. 불필요한 들여쓰기를 했을 때 - 어떠한 루프에 속하지 않음\n",
    "message = \"Hello Python world!\"\n",
    "    print(message)"
   ]
  },
  {
   "cell_type": "code",
   "execution_count": 21,
   "metadata": {},
   "outputs": [
    {
     "name": "stdout",
     "output_type": "stream",
     "text": [
      "Alice, that was a great trick!\n",
      "I can't wait to see your next trick, Alice. \n",
      "\n",
      "Thank you everyone, that was a great magic show!\n",
      "David, that was a great trick!\n",
      "I can't wait to see your next trick, David. \n",
      "\n",
      "Thank you everyone, that was a great magic show!\n",
      "Carolina, that was a great trick!\n",
      "I can't wait to see your next trick, Carolina. \n",
      "\n",
      "Thank you everyone, that was a great magic show!\n"
     ]
    }
   ],
   "source": [
    "# 4. 루프 다음에 불필요한 들여쓰기를 했을 때 - logical error\n",
    "magicians = ['alice', 'david', 'carolina']\n",
    "for magician in magicians :\n",
    "    print(f\"{magician.title()}, that was a great trick!\")\n",
    "    print(f\"I can't wait to see your next trick, {magician.title()}. \\n\")\n",
    "\n",
    "    print(\"Thank you everyone, that was a great magic show!\")"
   ]
  },
  {
   "cell_type": "code",
   "execution_count": 22,
   "metadata": {},
   "outputs": [
    {
     "ename": "SyntaxError",
     "evalue": "invalid syntax (3712850776.py, line 3)",
     "output_type": "error",
     "traceback": [
      "\u001b[1;36m  Input \u001b[1;32mIn [22]\u001b[1;36m\u001b[0m\n\u001b[1;33m    for magician in magicians\u001b[0m\n\u001b[1;37m                              ^\u001b[0m\n\u001b[1;31mSyntaxError\u001b[0m\u001b[1;31m:\u001b[0m invalid syntax\n"
     ]
    }
   ],
   "source": [
    "# 5. 콜론을 잊었을 때\n",
    "magicians = ['alice', 'david', 'carolina']\n",
    "for magician in magicians \n",
    "    print(magician)"
   ]
  },
  {
   "cell_type": "code",
   "execution_count": 23,
   "metadata": {},
   "outputs": [
    {
     "name": "stdout",
     "output_type": "stream",
     "text": [
      "I like Pepperoni.\n",
      "l really love pizza.\n",
      "I like Beef.\n",
      "l really love pizza.\n",
      "I like Pineapple.\n",
      "l really love pizza.\n",
      "I like Mushrooms.\n",
      "l really love pizza.\n"
     ]
    }
   ],
   "source": [
    "# 연습문제 4-1 피자 \n",
    "pizzas = ['Pepperoni', 'Beef', 'Pineapple', 'Mushrooms']\n",
    "for pizza in pizzas :\n",
    "    print(f\"I like {pizza.title()}.\")\n",
    "    print(\"l really love pizza.\")"
   ]
  },
  {
   "cell_type": "code",
   "execution_count": 24,
   "metadata": {},
   "outputs": [
    {
     "name": "stdout",
     "output_type": "stream",
     "text": [
      "Cat is great pet\n",
      "Rabbit is great pet\n",
      "Dog is great pet\n",
      "Mouse is great pet\n",
      "Squirrel is great pet\n",
      "This animals are great pets.\n"
     ]
    }
   ],
   "source": [
    "# 연습문제 4-2 동물 \n",
    "animals =['Cat', 'Rabbit', 'Dog', 'Mouse', 'Squirrel']\n",
    "for animal in animals :\n",
    "    print(f\"{animal.title()} is great pet\")\n",
    "print(\"This animals are great pets.\")"
   ]
  },
  {
   "cell_type": "markdown",
   "metadata": {},
   "source": [
    "### 숫자형 리스트"
   ]
  },
  {
   "cell_type": "markdown",
   "metadata": {},
   "source": [
    "- 연속된 숫자를 생성하기 위한 함수 : range()\n",
    "    - range(시작_숫자, 끝_숫자)\n",
    "    - 끝 숫자는 포함되지 않음 "
   ]
  },
  {
   "cell_type": "code",
   "execution_count": 25,
   "metadata": {},
   "outputs": [
    {
     "name": "stdout",
     "output_type": "stream",
     "text": [
      "1\n",
      "2\n",
      "3\n",
      "4\n"
     ]
    }
   ],
   "source": [
    "for value in range(1,5):\n",
    "    print(value)"
   ]
  },
  {
   "cell_type": "code",
   "execution_count": 26,
   "metadata": {},
   "outputs": [
    {
     "name": "stdout",
     "output_type": "stream",
     "text": [
      "1\n",
      "2\n",
      "3\n",
      "4\n",
      "5\n"
     ]
    }
   ],
   "source": [
    "for value in range(1,6):\n",
    "    print(value)"
   ]
  },
  {
   "cell_type": "code",
   "execution_count": 27,
   "metadata": {},
   "outputs": [
    {
     "name": "stdout",
     "output_type": "stream",
     "text": [
      "0\n",
      "1\n",
      "2\n",
      "3\n",
      "4\n",
      "5\n"
     ]
    }
   ],
   "source": [
    "for value in range(6):\n",
    "    print(value)"
   ]
  },
  {
   "cell_type": "markdown",
   "metadata": {},
   "source": [
    "- 숫자를 리스트로 생성 : list()"
   ]
  },
  {
   "cell_type": "code",
   "execution_count": 28,
   "metadata": {},
   "outputs": [
    {
     "name": "stdout",
     "output_type": "stream",
     "text": [
      "[1, 2, 3, 4, 5]\n"
     ]
    }
   ],
   "source": [
    "numbers = list(range(1,6))\n",
    "print(numbers)"
   ]
  },
  {
   "cell_type": "code",
   "execution_count": 29,
   "metadata": {},
   "outputs": [
    {
     "name": "stdout",
     "output_type": "stream",
     "text": [
      "[2, 4, 6, 8, 10]\n"
     ]
    }
   ],
   "source": [
    "# 1 부터 10까지 짝수만 리스트로 생성\n",
    "even_numbers = list(range(2,11,2))\n",
    "print(even_numbers)"
   ]
  },
  {
   "cell_type": "code",
   "execution_count": 30,
   "metadata": {},
   "outputs": [
    {
     "name": "stdout",
     "output_type": "stream",
     "text": [
      "[1, 4, 9, 16, 25, 36, 49, 64, 81, 100]\n"
     ]
    }
   ],
   "source": [
    "# for루프와 range()를 활용하여 조건에 맞는 숫자형 리스트 만들기\n",
    "squares = []\n",
    "for value in range(1,11):\n",
    "    square = value ** 2 \n",
    "    squares.append(square)\n",
    "print(squares)"
   ]
  },
  {
   "cell_type": "code",
   "execution_count": 31,
   "metadata": {},
   "outputs": [
    {
     "name": "stdout",
     "output_type": "stream",
     "text": [
      "[1, 4, 9, 16, 25, 36, 49, 64, 81, 100]\n"
     ]
    }
   ],
   "source": [
    "# 간결한 표현식 1\n",
    "squares = []\n",
    "for value in range(1,11):\n",
    "    squares.append(value **2)\n",
    "print(squares)"
   ]
  },
  {
   "cell_type": "code",
   "execution_count": 32,
   "metadata": {},
   "outputs": [
    {
     "name": "stdout",
     "output_type": "stream",
     "text": [
      " min value : 0 \n",
      " max value : 9 \n",
      " sum value : 45\n"
     ]
    }
   ],
   "source": [
    "# 숫자 리스트에 유용한 통계함수\n",
    "digits = [1, 2, 3, 4, 5, 6, 7, 8, 9, 0]\n",
    "print(\" min value :\", min(digits), \"\\n\",\"max value :\", max(digits), \"\\n\", \n",
    "\"sum value :\", sum(digits))"
   ]
  },
  {
   "cell_type": "code",
   "execution_count": 33,
   "metadata": {},
   "outputs": [
    {
     "name": "stdout",
     "output_type": "stream",
     "text": [
      "[1, 4, 9, 16, 25, 36, 49, 64, 81, 100]\n"
     ]
    }
   ],
   "source": [
    "# 간결한 표현식 2 - list comprehension (리스트 내포)\n",
    "squares = [value ** 2 for value in range(1,11)]\n",
    "print(squares)"
   ]
  },
  {
   "cell_type": "code",
   "execution_count": 34,
   "metadata": {},
   "outputs": [
    {
     "name": "stdout",
     "output_type": "stream",
     "text": [
      "1\n",
      "2\n",
      "3\n",
      "4\n",
      "5\n",
      "6\n",
      "7\n",
      "8\n",
      "9\n",
      "10\n",
      "11\n",
      "12\n",
      "13\n",
      "14\n",
      "15\n",
      "16\n",
      "17\n",
      "18\n",
      "19\n",
      "20\n"
     ]
    }
   ],
   "source": [
    "# 연습문제 4-3\n",
    "for i in range(1,21):\n",
    "    print(i)"
   ]
  },
  {
   "cell_type": "code",
   "execution_count": 35,
   "metadata": {},
   "outputs": [
    {
     "name": "stdout",
     "output_type": "stream",
     "text": [
      "[1, 3, 5, 7, 9, 11, 13, 15, 17, 19]\n"
     ]
    }
   ],
   "source": [
    "# 연습문제 4-6\n",
    "odds = []\n",
    "for i in range(1,20,2):\n",
    "    odds.append(i)\n",
    "print(odds)   "
   ]
  },
  {
   "cell_type": "code",
   "execution_count": 36,
   "metadata": {},
   "outputs": [
    {
     "name": "stdout",
     "output_type": "stream",
     "text": [
      "[9, 12, 15, 18, 21, 24, 27, 30, 33, 36, 39, 42, 45, 48, 51, 54, 57, 60, 63, 66, 69, 72, 75, 78, 81, 84, 87, 90]\n"
     ]
    }
   ],
   "source": [
    "# 연습문제 4-7\n",
    "triple = []\n",
    "for i in range(3,31):\n",
    "    triple.append(3*i)\n",
    "print(triple)   "
   ]
  },
  {
   "cell_type": "code",
   "execution_count": 37,
   "metadata": {},
   "outputs": [
    {
     "name": "stdout",
     "output_type": "stream",
     "text": [
      "[1, 8, 27, 64, 125, 216, 343, 512, 729, 1000]\n"
     ]
    }
   ],
   "source": [
    "# 연습문제 4-8\n",
    "cubic = []\n",
    "for i in range(1,11):\n",
    "    cubic.append(i ** 3)\n",
    "print(cubic)"
   ]
  },
  {
   "cell_type": "code",
   "execution_count": 38,
   "metadata": {},
   "outputs": [
    {
     "name": "stdout",
     "output_type": "stream",
     "text": [
      "[1, 8, 27, 64, 125, 216, 343, 512, 729, 1000]\n"
     ]
    }
   ],
   "source": [
    "# 연습문제 4-9\n",
    "cubic = [value ** 3 for value in range(1,11)]\n",
    "print(cubic)"
   ]
  },
  {
   "cell_type": "markdown",
   "metadata": {},
   "source": [
    "### Slice (파이썬 일부분 다루기)"
   ]
  },
  {
   "cell_type": "code",
   "execution_count": 39,
   "metadata": {},
   "outputs": [
    {
     "name": "stdout",
     "output_type": "stream",
     "text": [
      "['charles', 'martina', 'michael']\n"
     ]
    }
   ],
   "source": [
    "players = ['charles', 'martina', 'michael', 'florence', 'eli']\n",
    "print(players[0:3])"
   ]
  },
  {
   "cell_type": "code",
   "execution_count": 40,
   "metadata": {},
   "outputs": [
    {
     "name": "stdout",
     "output_type": "stream",
     "text": [
      "['martina', 'michael', 'florence']\n"
     ]
    }
   ],
   "source": [
    "print(players[1:4])"
   ]
  },
  {
   "cell_type": "code",
   "execution_count": 41,
   "metadata": {},
   "outputs": [
    {
     "name": "stdout",
     "output_type": "stream",
     "text": [
      "['charles', 'martina', 'michael', 'florence']\n"
     ]
    }
   ],
   "source": [
    "# 시작 인덱스가 없으므로 처음부터 시작\n",
    "print(players[:4])"
   ]
  },
  {
   "cell_type": "code",
   "execution_count": 42,
   "metadata": {},
   "outputs": [
    {
     "name": "stdout",
     "output_type": "stream",
     "text": [
      "['michael', 'florence', 'eli']\n"
     ]
    }
   ],
   "source": [
    "# 마지막 값까지 모두 반환\n",
    "print(players[2:])"
   ]
  },
  {
   "cell_type": "code",
   "execution_count": 43,
   "metadata": {},
   "outputs": [
    {
     "name": "stdout",
     "output_type": "stream",
     "text": [
      "['michael', 'florence', 'eli']\n"
     ]
    }
   ],
   "source": [
    "# 끝에서 세번째를 포함한 마지막 값들을 모두 반환\n",
    "print(players[-3:])"
   ]
  },
  {
   "cell_type": "code",
   "execution_count": 44,
   "metadata": {},
   "outputs": [
    {
     "name": "stdout",
     "output_type": "stream",
     "text": [
      "Here are the first three players on my team :\n",
      "Charles\n",
      "Martina\n",
      "Michael\n"
     ]
    }
   ],
   "source": [
    "# 슬라이스를 적용하여 for 루프를 활용할 수 있음\n",
    "players = ['charles', 'martina', 'michael', 'florence', 'eli']\n",
    "print(\"Here are the first three players on my team :\")\n",
    "for player in players[:3]:\n",
    "    print(player.title())"
   ]
  },
  {
   "cell_type": "code",
   "execution_count": 45,
   "metadata": {},
   "outputs": [
    {
     "name": "stdout",
     "output_type": "stream",
     "text": [
      "My favorite foods are :\n",
      "['pizza', 'falafel', 'carrot cake']\n",
      "\n",
      "My friend's favorite foods are :\n",
      "['pizza', 'falafel', 'carrot cake']\n"
     ]
    }
   ],
   "source": [
    "# 리스트 복사\n",
    "my_foods = ['pizza','falafel','carrot cake']\n",
    "friend_foods = my_foods[:]\n",
    "print(\"My favorite foods are :\")\n",
    "print(my_foods)\n",
    "print(\"\\nMy friend's favorite foods are :\")\n",
    "print(friend_foods)"
   ]
  },
  {
   "cell_type": "code",
   "execution_count": 46,
   "metadata": {},
   "outputs": [
    {
     "name": "stdout",
     "output_type": "stream",
     "text": [
      "My favorite foods are :\n",
      "['pizza', 'falafel', 'carrot cake', 'cannoli']\n",
      "\n",
      "My friend's favorite foods are :\n",
      "['pizza', 'falafel', 'carrot cake', 'ice cream']\n"
     ]
    }
   ],
   "source": [
    "my_foods = ['pizza','falafel','carrot cake']\n",
    "friend_foods = my_foods[:]\n",
    "\n",
    "my_foods.append(\"cannoli\")\n",
    "friend_foods.append('ice cream')\n",
    "print(\"My favorite foods are :\")\n",
    "print(my_foods)\n",
    "print(\"\\nMy friend's favorite foods are :\")\n",
    "print(friend_foods)"
   ]
  },
  {
   "cell_type": "code",
   "execution_count": 47,
   "metadata": {},
   "outputs": [
    {
     "name": "stdout",
     "output_type": "stream",
     "text": [
      "My favorite foods are :\n",
      "['pizza', 'falafel', 'carrot cake', 'cannoli', 'ice cream']\n",
      "\n",
      "My friend's favorite foods are :\n",
      "['pizza', 'falafel', 'carrot cake', 'cannoli', 'ice cream']\n"
     ]
    }
   ],
   "source": [
    "# my_foods 와 friend_foods는 같은 리스트를 가리킴\n",
    "# 두변수에 각각 다른 원소를 추가해도 같이 업데이트가 됨\n",
    "my_foods = ['pizza','falafel','carrot cake']\n",
    "friend_foods = my_foods\n",
    "\n",
    "my_foods.append(\"cannoli\")\n",
    "friend_foods.append('ice cream')\n",
    "print(\"My favorite foods are :\")\n",
    "print(my_foods)\n",
    "print(\"\\nMy friend's favorite foods are :\")\n",
    "print(friend_foods)"
   ]
  },
  {
   "cell_type": "code",
   "execution_count": 48,
   "metadata": {},
   "outputs": [
    {
     "name": "stdout",
     "output_type": "stream",
     "text": [
      "Pepperoni\n",
      "Beef\n",
      "Pineapple\n"
     ]
    }
   ],
   "source": [
    "# 연습문제 4-10 \n",
    "pizzas = ['Pepperoni', 'Beef', 'Pineapple',\n",
    "            'Mushrooms', 'Onions', 'Tomatoes', \n",
    "            'Bacon', 'Salami', 'Spinach']\n",
    "for pizza in pizzas[:3]:\n",
    "    print(pizza)\n"
   ]
  },
  {
   "cell_type": "code",
   "execution_count": 49,
   "metadata": {},
   "outputs": [
    {
     "name": "stdout",
     "output_type": "stream",
     "text": [
      "Mushrooms\n",
      "Onions\n",
      "Tomatoes\n"
     ]
    }
   ],
   "source": [
    "for pizza in pizzas[3:6]:\n",
    "    print(pizza)"
   ]
  },
  {
   "cell_type": "code",
   "execution_count": 50,
   "metadata": {},
   "outputs": [
    {
     "name": "stdout",
     "output_type": "stream",
     "text": [
      "Bacon\n",
      "Salami\n",
      "Spinach\n"
     ]
    }
   ],
   "source": [
    "for pizza in pizzas[-3:]:\n",
    "    print(pizza)"
   ]
  },
  {
   "cell_type": "code",
   "execution_count": 51,
   "metadata": {},
   "outputs": [],
   "source": [
    "# 연습문제 4-11 \n",
    "friend_pizzas = pizzas[:]\n",
    "\n",
    "pizzas.append('Green peppers')\n",
    "friend_pizzas.append('Black olive')"
   ]
  },
  {
   "cell_type": "code",
   "execution_count": 52,
   "metadata": {},
   "outputs": [
    {
     "name": "stdout",
     "output_type": "stream",
     "text": [
      "My favorite pizzas are :\n",
      "['Pepperoni', 'Beef', 'Pineapple', 'Mushrooms', 'Onions', 'Tomatoes', 'Bacon', 'Salami', 'Spinach', 'Green peppers']\n",
      "\n",
      "My friend's favorite pizzas are :\n",
      "['Pepperoni', 'Beef', 'Pineapple', 'Mushrooms', 'Onions', 'Tomatoes', 'Bacon', 'Salami', 'Spinach', 'Black olive']\n"
     ]
    }
   ],
   "source": [
    "print(\"My favorite pizzas are :\")\n",
    "print(pizzas)\n",
    "print(\"\\nMy friend's favorite pizzas are :\")\n",
    "print(friend_pizzas)"
   ]
  },
  {
   "cell_type": "markdown",
   "metadata": {},
   "source": [
    "### Tuple(튜플)"
   ]
  },
  {
   "cell_type": "markdown",
   "metadata": {},
   "source": [
    "- 바뀌지 않는 리스트를 튜플이라고 함.\n",
    "- 튜플을 정의하면 리스트와 마찬가지로 각 항목의 인덱스를 써서 개개의 항목에 접근 가능\n",
    "- 튜플은 수정이 불가능, 단 새값을 정의하는 것은 가능, 즉 튜플을 새로 정의해야함.\n",
    "- 프로그램 전체에 걸쳐 바뀌면 안되는 값이 있다면 튜플에 저장"
   ]
  },
  {
   "cell_type": "code",
   "execution_count": 53,
   "metadata": {},
   "outputs": [
    {
     "name": "stdout",
     "output_type": "stream",
     "text": [
      "200\n",
      "50\n"
     ]
    }
   ],
   "source": [
    "dimensions = (200, 50)\n",
    "print(dimensions[0])\n",
    "print(dimensions[1])"
   ]
  },
  {
   "cell_type": "code",
   "execution_count": 54,
   "metadata": {},
   "outputs": [
    {
     "ename": "TypeError",
     "evalue": "'tuple' object does not support item assignment",
     "output_type": "error",
     "traceback": [
      "\u001b[1;31m---------------------------------------------------------------------------\u001b[0m",
      "\u001b[1;31mTypeError\u001b[0m                                 Traceback (most recent call last)",
      "\u001b[1;32mg:\\내 드라이브\\ai_pycode\\3.python_list.ipynb Cell 45'\u001b[0m in \u001b[0;36m<cell line: 2>\u001b[1;34m()\u001b[0m\n\u001b[0;32m      <a href='vscode-notebook-cell:/g%3A/%EB%82%B4%20%EB%93%9C%EB%9D%BC%EC%9D%B4%EB%B8%8C/ai_pycode/3.python_list.ipynb#ch0000039?line=0'>1</a>\u001b[0m dimensions \u001b[39m=\u001b[39m (\u001b[39m200\u001b[39m, \u001b[39m50\u001b[39m)\n\u001b[1;32m----> <a href='vscode-notebook-cell:/g%3A/%EB%82%B4%20%EB%93%9C%EB%9D%BC%EC%9D%B4%EB%B8%8C/ai_pycode/3.python_list.ipynb#ch0000039?line=1'>2</a>\u001b[0m dimensions[\u001b[39m0\u001b[39m] \u001b[39m=\u001b[39m \u001b[39m250\u001b[39m\n",
      "\u001b[1;31mTypeError\u001b[0m: 'tuple' object does not support item assignment"
     ]
    }
   ],
   "source": [
    "dimensions = (200, 50)\n",
    "dimensions[0] = 250"
   ]
  },
  {
   "cell_type": "code",
   "execution_count": 55,
   "metadata": {},
   "outputs": [
    {
     "name": "stdout",
     "output_type": "stream",
     "text": [
      "200\n",
      "50\n"
     ]
    }
   ],
   "source": [
    "dimensions = (200, 50)\n",
    "for dimension in dimensions :\n",
    "    print(dimension)"
   ]
  },
  {
   "cell_type": "code",
   "execution_count": 56,
   "metadata": {},
   "outputs": [
    {
     "name": "stdout",
     "output_type": "stream",
     "text": [
      "Original dimensions :\n",
      "200\n",
      "50\n",
      "\n",
      "Modified dimensions :\n",
      "400\n",
      "100\n"
     ]
    }
   ],
   "source": [
    "dimensions = (200, 50)\n",
    "print(\"Original dimensions :\")\n",
    "for dimension in dimensions :\n",
    "    print(dimension)\n",
    "\n",
    "dimensions = (400, 100)\n",
    "print(\"\\nModified dimensions :\")\n",
    "for dimension in dimensions :\n",
    "    print(dimension)"
   ]
  },
  {
   "cell_type": "code",
   "execution_count": 57,
   "metadata": {},
   "outputs": [
    {
     "name": "stdout",
     "output_type": "stream",
     "text": [
      "bacon\n",
      "chicken\n",
      "banana\n",
      "blueberry\n",
      "salmon\n"
     ]
    }
   ],
   "source": [
    "# 연습문제 4-13 \n",
    "original_foods = ('bacon', 'chicken', 'banana', 'blueberry', 'salmon')\n",
    "for i in original_foods :\n",
    "    print(i)\n"
   ]
  },
  {
   "cell_type": "code",
   "execution_count": 58,
   "metadata": {},
   "outputs": [
    {
     "ename": "TypeError",
     "evalue": "'tuple' object does not support item assignment",
     "output_type": "error",
     "traceback": [
      "\u001b[1;31m---------------------------------------------------------------------------\u001b[0m",
      "\u001b[1;31mTypeError\u001b[0m                                 Traceback (most recent call last)",
      "\u001b[1;32mg:\\내 드라이브\\ai_pycode\\3.python_list.ipynb Cell 49'\u001b[0m in \u001b[0;36m<cell line: 1>\u001b[1;34m()\u001b[0m\n\u001b[1;32m----> <a href='vscode-notebook-cell:/g%3A/%EB%82%B4%20%EB%93%9C%EB%9D%BC%EC%9D%B4%EB%B8%8C/ai_pycode/3.python_list.ipynb#ch0000045?line=0'>1</a>\u001b[0m original_foods[\u001b[39m0\u001b[39m] \u001b[39m=\u001b[39m \u001b[39m'\u001b[39m\u001b[39mstrawberry\u001b[39m\u001b[39m'\u001b[39m\n",
      "\u001b[1;31mTypeError\u001b[0m: 'tuple' object does not support item assignment"
     ]
    }
   ],
   "source": [
    "original_foods[0] = 'strawberry'"
   ]
  },
  {
   "cell_type": "code",
   "execution_count": 59,
   "metadata": {},
   "outputs": [
    {
     "name": "stdout",
     "output_type": "stream",
     "text": [
      "bacon\n",
      "chicken\n",
      "strawberry\n",
      "plum\n",
      "salmon\n"
     ]
    }
   ],
   "source": [
    "modified_foods = ('bacon', 'chicken', 'strawberry', 'plum', 'salmon')\n",
    "for i in modified_foods :\n",
    "    print(i)"
   ]
  },
  {
   "cell_type": "markdown",
   "metadata": {},
   "source": [
    "PEP 8 : https://peps.python.org/pep-0008/\n",
    "\n",
    "\n",
    "1. 들여쓰기 : 공백 네칸을 권장 (가독성을 높일 수 있음)\n",
    "2. 행 길이 : 각 행은 80자 미만이 되게 하고, 에디터에서 80번째 글자 위치에 세로선 표시\n",
    "3. 빈 행 : 빈 행을 지나치게 쓰지 말 것\n"
   ]
  }
 ],
 "metadata": {
  "interpreter": {
   "hash": "1d5c1156327dacead463cc502c55ebae8ce9c8c01979cf154173ff808e75bf55"
  },
  "kernelspec": {
   "display_name": "Python 3.9.2 64-bit",
   "language": "python",
   "name": "python3"
  },
  "language_info": {
   "codemirror_mode": {
    "name": "ipython",
    "version": 3
   },
   "file_extension": ".py",
   "mimetype": "text/x-python",
   "name": "python",
   "nbconvert_exporter": "python",
   "pygments_lexer": "ipython3",
   "version": "3.9.2"
  },
  "orig_nbformat": 4
 },
 "nbformat": 4,
 "nbformat_minor": 2
}
